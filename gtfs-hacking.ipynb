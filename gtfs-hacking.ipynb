{
 "cells": [
  {
   "cell_type": "markdown",
   "metadata": {},
   "source": [
    "# General Counts"
   ]
  },
  {
   "cell_type": "code",
   "execution_count": 111,
   "metadata": {},
   "outputs": [
    {
     "name": "stdout",
     "output_type": "stream",
     "text": [
      "     route_id                     trip_id          service_id   trip_headsign  \\\n",
      "0         SCM  NB_christmas_eve_2024_0835  christmas_eve_2024  Seattle Center   \n",
      "1         SCM  NB_christmas_eve_2024_0845  christmas_eve_2024  Seattle Center   \n",
      "2         SCM  NB_christmas_eve_2024_0855  christmas_eve_2024  Seattle Center   \n",
      "3         SCM  NB_christmas_eve_2024_0905  christmas_eve_2024  Seattle Center   \n",
      "4         SCM  NB_christmas_eve_2024_0915  christmas_eve_2024  Seattle Center   \n",
      "...       ...                         ...                 ...             ...   \n",
      "2273      SCM      SB_winter2024_Sun_2020      winter2024_Sun        Westlake   \n",
      "2274      SCM      SB_winter2024_Sun_2030      winter2024_Sun        Westlake   \n",
      "2275      SCM      SB_winter2024_Sun_2040      winter2024_Sun        Westlake   \n",
      "2276      SCM      SB_winter2024_Sun_2050      winter2024_Sun        Westlake   \n",
      "2277      SCM      SB_winter2024_Sun_2100      winter2024_Sun        Westlake   \n",
      "\n",
      "      direction_id          shape_id  wheelchair_accessible  \\\n",
      "0                1  FifthAveNB_shape                      1   \n",
      "1                1  FifthAveNB_shape                      1   \n",
      "2                1  FifthAveNB_shape                      1   \n",
      "3                1  FifthAveNB_shape                      1   \n",
      "4                1  FifthAveNB_shape                      1   \n",
      "...            ...               ...                    ...   \n",
      "2273             0  FifthAveSB_shape                      1   \n",
      "2274             0  FifthAveSB_shape                      1   \n",
      "2275             0  FifthAveSB_shape                      1   \n",
      "2276             0  FifthAveSB_shape                      1   \n",
      "2277             0  FifthAveSB_shape                      1   \n",
      "\n",
      "      drt_advance_book_min  bikes_allowed  peak_offpeak  boarding_type  \n",
      "0                      0.0              1             0              0  \n",
      "1                      0.0              1             0              0  \n",
      "2                      0.0              1             0              0  \n",
      "3                      0.0              1             0              0  \n",
      "4                      0.0              1             0              0  \n",
      "...                    ...            ...           ...            ...  \n",
      "2273                   0.0              1             0              0  \n",
      "2274                   0.0              1             0              0  \n",
      "2275                   0.0              1             0              0  \n",
      "2276                   0.0              1             0              0  \n",
      "2277                   0.0              1             0              0  \n",
      "\n",
      "[2278 rows x 11 columns]\n"
     ]
    }
   ],
   "source": [
    "import os\n",
    "import pandas as pd\n",
    "\n",
    "trips_csv =  os.path.join(os.getcwd(), 'data', 'monorail', 'trips.txt')\n",
    "df = pd.read_csv(trips_csv)\n",
    "print(df)"
   ]
  },
  {
   "cell_type": "markdown",
   "metadata": {},
   "source": []
  },
  {
   "cell_type": "code",
   "execution_count": 112,
   "metadata": {},
   "outputs": [
    {
     "data": {
      "text/plain": [
       "array(['christmas_eve_2024', 'event_s2100e0000', 'event_s2100e2230',\n",
       "       'event_s2100e2345', 'event_s2300e0000', 'labor_day_2024',\n",
       "       'memorial_day_2025', 'mlk_day_2025', 'ny_day_2025', 'ny_eve_2024',\n",
       "       'ny_eve_post_2025', 'summer2024_MonFri', 'summer2024_SatSun',\n",
       "       'veterans_day_2024', 'winter2024_Fri', 'winter2024_MonThu',\n",
       "       'winter2024_Sat', 'winter2024_Sun'], dtype=object)"
      ]
     },
     "execution_count": 112,
     "metadata": {},
     "output_type": "execute_result"
    }
   ],
   "source": [
    "## Get unique names of Special Trips\n",
    "\n",
    "df.service_id.unique()"
   ]
  },
  {
   "cell_type": "code",
   "execution_count": 113,
   "metadata": {},
   "outputs": [
    {
     "data": {
      "text/plain": [
       "service_id\n",
       "ny_eve_post_2025       10\n",
       "event_s2300e0000       14\n",
       "event_s2100e2230       20\n",
       "event_s2100e2345       34\n",
       "event_s2100e0000       38\n",
       "ny_day_2025           134\n",
       "winter2024_Sun        152\n",
       "mlk_day_2025          152\n",
       "christmas_eve_2024    152\n",
       "veterans_day_2024     152\n",
       "winter2024_MonThu     164\n",
       "summer2024_SatSun     176\n",
       "memorial_day_2025     176\n",
       "labor_day_2024        176\n",
       "winter2024_Sat        176\n",
       "ny_eve_2024           176\n",
       "winter2024_Fri        188\n",
       "summer2024_MonFri     188\n",
       "Name: count, dtype: int64"
      ]
     },
     "execution_count": 113,
     "metadata": {},
     "output_type": "execute_result"
    }
   ],
   "source": [
    "## Also include the counts, but sort occurs on counts not names\n",
    "\n",
    "df.service_id.value_counts().sort_values()"
   ]
  },
  {
   "cell_type": "code",
   "execution_count": 114,
   "metadata": {},
   "outputs": [
    {
     "data": {
      "text/plain": [
       "service_id\n",
       "christmas_eve_2024    152\n",
       "event_s2100e0000       38\n",
       "event_s2100e2230       20\n",
       "event_s2100e2345       34\n",
       "event_s2300e0000       14\n",
       "labor_day_2024        176\n",
       "memorial_day_2025     176\n",
       "mlk_day_2025          152\n",
       "ny_day_2025           134\n",
       "ny_eve_2024           176\n",
       "ny_eve_post_2025       10\n",
       "summer2024_MonFri     188\n",
       "summer2024_SatSun     176\n",
       "veterans_day_2024     152\n",
       "winter2024_Fri        188\n",
       "winter2024_MonThu     164\n",
       "winter2024_Sat        176\n",
       "winter2024_Sun        152\n",
       "Name: count, dtype: int64"
      ]
     },
     "execution_count": 114,
     "metadata": {},
     "output_type": "execute_result"
    }
   ],
   "source": [
    "## Sort by the name, using the `sort_index()` method.\n",
    "\n",
    "df.service_id.value_counts().sort_index()"
   ]
  },
  {
   "cell_type": "code",
   "execution_count": 115,
   "metadata": {},
   "outputs": [
    {
     "data": {
      "text/plain": [
       "service_id\n",
       "christmas_eve_2024    152\n",
       "event_s2100e0000       38\n",
       "event_s2100e2230       20\n",
       "event_s2100e2345       34\n",
       "event_s2300e0000       14\n",
       "labor_day_2024        176\n",
       "memorial_day_2025     176\n",
       "mlk_day_2025          152\n",
       "ny_day_2025           134\n",
       "ny_eve_2024           176\n",
       "ny_eve_post_2025       10\n",
       "summer2024_MonFri     188\n",
       "summer2024_SatSun     176\n",
       "veterans_day_2024     152\n",
       "winter2024_Fri        188\n",
       "winter2024_MonThu     164\n",
       "winter2024_Sat        176\n",
       "winter2024_Sun        152\n",
       "dtype: int64"
      ]
     },
     "execution_count": 115,
     "metadata": {},
     "output_type": "execute_result"
    }
   ],
   "source": [
    "## Using `groupby()` and `size()` yields the same results.\n",
    "df.groupby('service_id').size()"
   ]
  },
  {
   "cell_type": "code",
   "execution_count": 116,
   "metadata": {},
   "outputs": [
    {
     "data": {
      "text/plain": [
       "service_id          trip_headsign \n",
       "christmas_eve_2024  Seattle Center    76\n",
       "                    Westlake          76\n",
       "event_s2100e0000    Seattle Center    19\n",
       "                    Westlake          19\n",
       "event_s2100e2230    Seattle Center    10\n",
       "                    Westlake          10\n",
       "event_s2100e2345    Seattle Center    17\n",
       "                    Westlake          17\n",
       "event_s2300e0000    Seattle Center     7\n",
       "                    Westlake           7\n",
       "labor_day_2024      Seattle Center    88\n",
       "                    Westlake          88\n",
       "memorial_day_2025   Seattle Center    88\n",
       "                    Westlake          88\n",
       "mlk_day_2025        Seattle Center    76\n",
       "                    Westlake          76\n",
       "ny_day_2025         Seattle Center    67\n",
       "                    Westlake          67\n",
       "ny_eve_2024         Seattle Center    88\n",
       "                    Westlake          88\n",
       "ny_eve_post_2025    Seattle Center     5\n",
       "                    Westlake           5\n",
       "summer2024_MonFri   Seattle Center    94\n",
       "                    Westlake          94\n",
       "summer2024_SatSun   Seattle Center    88\n",
       "                    Westlake          88\n",
       "veterans_day_2024   Seattle Center    76\n",
       "                    Westlake          76\n",
       "winter2024_Fri      Seattle Center    94\n",
       "                    Westlake          94\n",
       "winter2024_MonThu   Seattle Center    82\n",
       "                    Westlake          82\n",
       "winter2024_Sat      Seattle Center    88\n",
       "                    Westlake          88\n",
       "winter2024_Sun      Seattle Center    76\n",
       "                    Westlake          76\n",
       "dtype: int64"
      ]
     },
     "execution_count": 116,
     "metadata": {},
     "output_type": "execute_result"
    }
   ],
   "source": [
    "## Use `groupby()` to get counts by `service_id`` and `trip_headsign`.\n",
    "\n",
    "df.groupby(['service_id', 'trip_headsign']).size()"
   ]
  }
 ],
 "metadata": {
  "kernelspec": {
   "display_name": "gtfs-exploration-Jy88ZVDk",
   "language": "python",
   "name": "python3"
  },
  "language_info": {
   "codemirror_mode": {
    "name": "ipython",
    "version": 3
   },
   "file_extension": ".py",
   "mimetype": "text/x-python",
   "name": "python",
   "nbconvert_exporter": "python",
   "pygments_lexer": "ipython3",
   "version": "3.11.6"
  }
 },
 "nbformat": 4,
 "nbformat_minor": 2
}
