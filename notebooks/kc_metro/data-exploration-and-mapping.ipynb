{
 "cells": [
  {
   "cell_type": "markdown",
   "metadata": {},
   "source": [
    "## KC Metro Data Exploration\n",
    "\n",
    "Bootstrap the CSVs into dataframes."
   ]
  },
  {
   "cell_type": "code",
   "execution_count": 244,
   "metadata": {},
   "outputs": [],
   "source": [
    "## Get a dataframe going.\n",
    "\n",
    "import os\n",
    "import pandas as pd\n",
    "\n",
    "# REF: https://pandas.pydata.org/pandas-docs/stable/user_guide/copy_on_write.html#copy-on-write-optimizations\n",
    "# Used based on warning when attempting to update a subset of a dataframe downstream.\n",
    "pd.set_option('mode.copy_on_write', True)\n",
    "pd.options.mode.copy_on_write = True\n",
    "\n",
    "AGENCY_DIR = 'kc_metro'\n",
    "\n",
    "data = {\n",
    "    \"routes\": {\n",
    "        \"csv\": \"routes.txt\",\n",
    "        \"df\": None\n",
    "    },\n",
    "    \"stops\": {\n",
    "        \"csv\": \"stops.txt\",\n",
    "        \"df\": None\n",
    "    },\n",
    "    \"stop_times\": {\n",
    "        \"csv\": \"stop_times.txt\",\n",
    "        \"df\": None\n",
    "    },\n",
    "    \"trips\": {\n",
    "        \"csv\": \"trips.txt\",\n",
    "        \"df\": None\n",
    "    },\n",
    "}\n",
    "\n",
    "for header, vals in data.items():\n",
    "    data_dir = os.path.join(os.getcwd(), os.pardir, os.pardir, 'data')\n",
    "    data_csv =  os.path.join(data_dir, AGENCY_DIR, vals['csv'])\n",
    "    data_df = pd.read_csv(data_csv)\n",
    "    data[header]['df'] = data_df\n"
   ]
  },
  {
   "cell_type": "markdown",
   "metadata": {},
   "source": [
    "#### Try to find all stops for a given route (from `routes.txt`)"
   ]
  },
  {
   "cell_type": "code",
   "execution_count": 245,
   "metadata": {},
   "outputs": [
    {
     "data": {
      "text/plain": [
       "12523    572987776\n",
       "12524    572987826\n",
       "12525    572987836\n",
       "12526    572987856\n",
       "12527    572987866\n",
       "Name: trip_id, dtype: int64"
      ]
     },
     "execution_count": 245,
     "metadata": {},
     "output_type": "execute_result"
    }
   ],
   "source": [
    "ROUTE_ID = 100275\n",
    "\n",
    "# Get some sample `trip_id` values for Route 8\n",
    "# From `trips.txt`\n",
    "trips_df = data['trips']['df']\n",
    "trips_filtered_by_route = trips_df[trips_df['route_id'] == ROUTE_ID]['trip_id']\n",
    "trips_filtered_by_route.head()\n"
   ]
  },
  {
   "cell_type": "code",
   "execution_count": 246,
   "metadata": {},
   "outputs": [
    {
     "data": {
      "text/plain": [
       "np.int64(35)"
      ]
     },
     "execution_count": 246,
     "metadata": {},
     "output_type": "execute_result"
    }
   ],
   "source": [
    "FIRST_TRIP_ID = trips_filtered_by_route.head(1).values[0]\n",
    "\n",
    "# Filter `stop_times.txt` to get stop ids\n",
    "stop_times_df = data['stop_times']['df']\n",
    "stop_ids = stop_times_df[stop_times_df['trip_id'] == FIRST_TRIP_ID]['stop_id']\n",
    "\n",
    "# Total number of stop counts\n",
    "stop_ids.count()"
   ]
  },
  {
   "cell_type": "code",
   "execution_count": 247,
   "metadata": {},
   "outputs": [
    {
     "data": {
      "text/html": [
       "<div>\n",
       "<style scoped>\n",
       "    .dataframe tbody tr th:only-of-type {\n",
       "        vertical-align: middle;\n",
       "    }\n",
       "\n",
       "    .dataframe tbody tr th {\n",
       "        vertical-align: top;\n",
       "    }\n",
       "\n",
       "    .dataframe thead th {\n",
       "        text-align: right;\n",
       "    }\n",
       "</style>\n",
       "<table border=\"1\" class=\"dataframe\">\n",
       "  <thead>\n",
       "    <tr style=\"text-align: right;\">\n",
       "      <th></th>\n",
       "      <th>stop_id</th>\n",
       "      <th>stop_code</th>\n",
       "      <th>stop_name</th>\n",
       "      <th>stop_desc</th>\n",
       "      <th>stop_lat</th>\n",
       "      <th>stop_lon</th>\n",
       "      <th>zone_id</th>\n",
       "      <th>stop_url</th>\n",
       "      <th>location_type</th>\n",
       "      <th>parent_station</th>\n",
       "      <th>stop_timezone</th>\n",
       "      <th>wheelchair_boarding</th>\n",
       "    </tr>\n",
       "  </thead>\n",
       "  <tbody>\n",
       "    <tr>\n",
       "      <th>0</th>\n",
       "      <td>8402</td>\n",
       "      <td>8402</td>\n",
       "      <td>Mount Baker Transit Center - Bay 2</td>\n",
       "      <td>NaN</td>\n",
       "      <td>47.577591</td>\n",
       "      <td>-122.297127</td>\n",
       "      <td>1</td>\n",
       "      <td>NaN</td>\n",
       "      <td>0</td>\n",
       "      <td>NaN</td>\n",
       "      <td>America/Los_Angeles</td>\n",
       "      <td>1</td>\n",
       "    </tr>\n",
       "    <tr>\n",
       "      <th>1</th>\n",
       "      <td>8672</td>\n",
       "      <td>8672</td>\n",
       "      <td>Martin L King Jr Way S &amp; S Bayview St</td>\n",
       "      <td>NaN</td>\n",
       "      <td>47.581486</td>\n",
       "      <td>-122.297020</td>\n",
       "      <td>1</td>\n",
       "      <td>NaN</td>\n",
       "      <td>0</td>\n",
       "      <td>NaN</td>\n",
       "      <td>America/Los_Angeles</td>\n",
       "      <td>1</td>\n",
       "    </tr>\n",
       "    <tr>\n",
       "      <th>2</th>\n",
       "      <td>36752</td>\n",
       "      <td>36752</td>\n",
       "      <td>Martin L King Jr Way S &amp; S Walker St</td>\n",
       "      <td>NaN</td>\n",
       "      <td>47.583851</td>\n",
       "      <td>-122.298042</td>\n",
       "      <td>1</td>\n",
       "      <td>NaN</td>\n",
       "      <td>0</td>\n",
       "      <td>NaN</td>\n",
       "      <td>America/Los_Angeles</td>\n",
       "      <td>1</td>\n",
       "    </tr>\n",
       "    <tr>\n",
       "      <th>3</th>\n",
       "      <td>12497</td>\n",
       "      <td>12497</td>\n",
       "      <td>Martin L King Jr Way S &amp; S Massachusetts St</td>\n",
       "      <td>NaN</td>\n",
       "      <td>47.588676</td>\n",
       "      <td>-122.297852</td>\n",
       "      <td>1</td>\n",
       "      <td>NaN</td>\n",
       "      <td>0</td>\n",
       "      <td>NaN</td>\n",
       "      <td>America/Los_Angeles</td>\n",
       "      <td>1</td>\n",
       "    </tr>\n",
       "    <tr>\n",
       "      <th>4</th>\n",
       "      <td>43765</td>\n",
       "      <td>43765</td>\n",
       "      <td>Martin L King Jr Way S &amp; S Irving St</td>\n",
       "      <td>NaN</td>\n",
       "      <td>47.590630</td>\n",
       "      <td>-122.297348</td>\n",
       "      <td>1</td>\n",
       "      <td>NaN</td>\n",
       "      <td>0</td>\n",
       "      <td>NaN</td>\n",
       "      <td>America/Los_Angeles</td>\n",
       "      <td>1</td>\n",
       "    </tr>\n",
       "  </tbody>\n",
       "</table>\n",
       "</div>"
      ],
      "text/plain": [
       "   stop_id  stop_code                                    stop_name  stop_desc  \\\n",
       "0     8402       8402           Mount Baker Transit Center - Bay 2        NaN   \n",
       "1     8672       8672        Martin L King Jr Way S & S Bayview St        NaN   \n",
       "2    36752      36752         Martin L King Jr Way S & S Walker St        NaN   \n",
       "3    12497      12497  Martin L King Jr Way S & S Massachusetts St        NaN   \n",
       "4    43765      43765         Martin L King Jr Way S & S Irving St        NaN   \n",
       "\n",
       "    stop_lat    stop_lon  zone_id  stop_url  location_type  parent_station  \\\n",
       "0  47.577591 -122.297127        1       NaN              0             NaN   \n",
       "1  47.581486 -122.297020        1       NaN              0             NaN   \n",
       "2  47.583851 -122.298042        1       NaN              0             NaN   \n",
       "3  47.588676 -122.297852        1       NaN              0             NaN   \n",
       "4  47.590630 -122.297348        1       NaN              0             NaN   \n",
       "\n",
       "         stop_timezone  wheelchair_boarding  \n",
       "0  America/Los_Angeles                    1  \n",
       "1  America/Los_Angeles                    1  \n",
       "2  America/Los_Angeles                    1  \n",
       "3  America/Los_Angeles                    1  \n",
       "4  America/Los_Angeles                    1  "
      ]
     },
     "execution_count": 247,
     "metadata": {},
     "output_type": "execute_result"
    }
   ],
   "source": [
    "# Join previously filtered stop_ids to stops.txt\n",
    "# giving us the stop geometries\n",
    "\n",
    "stops_df = data['stops']['df']\n",
    "\n",
    "stops_filtered_by_route = pd.merge(stop_ids, stops_df)\n",
    "\n",
    "stops_filtered_by_route.head()"
   ]
  },
  {
   "cell_type": "code",
   "execution_count": 248,
   "metadata": {},
   "outputs": [
    {
     "data": {
      "text/html": [
       "<div style=\"width:100%;\"><div style=\"position:relative;width:100%;height:0;padding-bottom:60%;\"><span style=\"color:#565656\">Make this Notebook Trusted to load map: File -> Trust Notebook</span><iframe srcdoc=\"&lt;!DOCTYPE html&gt;\n",
       "&lt;html&gt;\n",
       "&lt;head&gt;\n",
       "    \n",
       "    &lt;meta http-equiv=&quot;content-type&quot; content=&quot;text/html; charset=UTF-8&quot; /&gt;\n",
       "    \n",
       "        &lt;script&gt;\n",
       "            L_NO_TOUCH = false;\n",
       "            L_DISABLE_3D = false;\n",
       "        &lt;/script&gt;\n",
       "    \n",
       "    &lt;style&gt;html, body {width: 100%;height: 100%;margin: 0;padding: 0;}&lt;/style&gt;\n",
       "    &lt;style&gt;#map {position:absolute;top:0;bottom:0;right:0;left:0;}&lt;/style&gt;\n",
       "    &lt;script src=&quot;https://cdn.jsdelivr.net/npm/leaflet@1.9.3/dist/leaflet.js&quot;&gt;&lt;/script&gt;\n",
       "    &lt;script src=&quot;https://code.jquery.com/jquery-3.7.1.min.js&quot;&gt;&lt;/script&gt;\n",
       "    &lt;script src=&quot;https://cdn.jsdelivr.net/npm/bootstrap@5.2.2/dist/js/bootstrap.bundle.min.js&quot;&gt;&lt;/script&gt;\n",
       "    &lt;script src=&quot;https://cdnjs.cloudflare.com/ajax/libs/Leaflet.awesome-markers/2.0.2/leaflet.awesome-markers.js&quot;&gt;&lt;/script&gt;\n",
       "    &lt;link rel=&quot;stylesheet&quot; href=&quot;https://cdn.jsdelivr.net/npm/leaflet@1.9.3/dist/leaflet.css&quot;/&gt;\n",
       "    &lt;link rel=&quot;stylesheet&quot; href=&quot;https://cdn.jsdelivr.net/npm/bootstrap@5.2.2/dist/css/bootstrap.min.css&quot;/&gt;\n",
       "    &lt;link rel=&quot;stylesheet&quot; href=&quot;https://netdna.bootstrapcdn.com/bootstrap/3.0.0/css/bootstrap-glyphicons.css&quot;/&gt;\n",
       "    &lt;link rel=&quot;stylesheet&quot; href=&quot;https://cdn.jsdelivr.net/npm/@fortawesome/fontawesome-free@6.2.0/css/all.min.css&quot;/&gt;\n",
       "    &lt;link rel=&quot;stylesheet&quot; href=&quot;https://cdnjs.cloudflare.com/ajax/libs/Leaflet.awesome-markers/2.0.2/leaflet.awesome-markers.css&quot;/&gt;\n",
       "    &lt;link rel=&quot;stylesheet&quot; href=&quot;https://cdn.jsdelivr.net/gh/python-visualization/folium/folium/templates/leaflet.awesome.rotate.min.css&quot;/&gt;\n",
       "    \n",
       "            &lt;meta name=&quot;viewport&quot; content=&quot;width=device-width,\n",
       "                initial-scale=1.0, maximum-scale=1.0, user-scalable=no&quot; /&gt;\n",
       "            &lt;style&gt;\n",
       "                #map_2fc00ecc06903f691419e86910a6264a {\n",
       "                    position: relative;\n",
       "                    width: 100.0%;\n",
       "                    height: 100.0%;\n",
       "                    left: 0.0%;\n",
       "                    top: 0.0%;\n",
       "                }\n",
       "                .leaflet-container { font-size: 1rem; }\n",
       "            &lt;/style&gt;\n",
       "        \n",
       "&lt;/head&gt;\n",
       "&lt;body&gt;\n",
       "    \n",
       "    \n",
       "            &lt;div class=&quot;folium-map&quot; id=&quot;map_2fc00ecc06903f691419e86910a6264a&quot; &gt;&lt;/div&gt;\n",
       "        \n",
       "&lt;/body&gt;\n",
       "&lt;script&gt;\n",
       "    \n",
       "    \n",
       "            var map_2fc00ecc06903f691419e86910a6264a = L.map(\n",
       "                &quot;map_2fc00ecc06903f691419e86910a6264a&quot;,\n",
       "                {\n",
       "                    center: [47.617, -122.34],\n",
       "                    crs: L.CRS.EPSG3857,\n",
       "                    zoom: 15,\n",
       "                    zoomControl: true,\n",
       "                    preferCanvas: false,\n",
       "                }\n",
       "            );\n",
       "\n",
       "            \n",
       "\n",
       "        \n",
       "    \n",
       "            var tile_layer_96c97ec27d5a1422d1fe4c6e5fa6323c = L.tileLayer(\n",
       "                &quot;https://tile.openstreetmap.org/{z}/{x}/{y}.png&quot;,\n",
       "                {&quot;attribution&quot;: &quot;\\u0026copy; \\u003ca href=\\&quot;https://www.openstreetmap.org/copyright\\&quot;\\u003eOpenStreetMap\\u003c/a\\u003e contributors&quot;, &quot;detectRetina&quot;: false, &quot;maxNativeZoom&quot;: 19, &quot;maxZoom&quot;: 19, &quot;minZoom&quot;: 0, &quot;noWrap&quot;: false, &quot;opacity&quot;: 1, &quot;subdomains&quot;: &quot;abc&quot;, &quot;tms&quot;: false}\n",
       "            );\n",
       "        \n",
       "    \n",
       "            tile_layer_96c97ec27d5a1422d1fe4c6e5fa6323c.addTo(map_2fc00ecc06903f691419e86910a6264a);\n",
       "        \n",
       "    \n",
       "            var poly_line_a3ab5f67495ecba960db1f88447073ea = L.polyline(\n",
       "                [[47.5775909, -122.297127], [47.5814857, -122.29702], [47.5838509, -122.298042], [47.5886765, -122.297852], [47.5906296, -122.297348], [47.5953522, -122.297523], [47.5993042, -122.297752], [47.5996971, -122.302124], [47.6016006, -122.301727], [47.6015854, -122.297539], [47.6045036, -122.2967], [47.6076012, -122.296249], [47.6101913, -122.296127], [47.6126251, -122.296112], [47.616684, -122.296043], [47.6201057, -122.29599], [47.6231194, -122.296867], [47.6208687, -122.300186], [47.6202774, -122.303993], [47.6205559, -122.30719], [47.6205711, -122.31192], [47.6200333, -122.313202], [47.6200027, -122.317535], [47.6199799, -122.319992], [47.6191521, -122.325119], [47.6185646, -122.326553], [47.6186028, -122.334213], [47.6186028, -122.338806], [47.6186142, -122.342163], [47.6186295, -122.345619], [47.6186409, -122.347847], [47.61866, -122.352615], [47.6191177, -122.355362], [47.6231232, -122.355309], [47.624649, -122.356552]],\n",
       "                {&quot;bubblingMouseEvents&quot;: true, &quot;color&quot;: &quot;#3388ff&quot;, &quot;dashArray&quot;: null, &quot;dashOffset&quot;: null, &quot;fill&quot;: false, &quot;fillColor&quot;: &quot;#3388ff&quot;, &quot;fillOpacity&quot;: 0.2, &quot;fillRule&quot;: &quot;evenodd&quot;, &quot;lineCap&quot;: &quot;round&quot;, &quot;lineJoin&quot;: &quot;round&quot;, &quot;noClip&quot;: false, &quot;opacity&quot;: 1.0, &quot;smoothFactor&quot;: 1.0, &quot;stroke&quot;: true, &quot;weight&quot;: 3}\n",
       "            ).addTo(map_2fc00ecc06903f691419e86910a6264a);\n",
       "        \n",
       "    \n",
       "            poly_line_a3ab5f67495ecba960db1f88447073ea.bindTooltip(\n",
       "                `&lt;div&gt;\n",
       "                     8 | Seattle Center - Capitol Hill - Rainier Beach\n",
       "                 &lt;/div&gt;`,\n",
       "                {&quot;sticky&quot;: true}\n",
       "            );\n",
       "        \n",
       "&lt;/script&gt;\n",
       "&lt;/html&gt;\" style=\"position:absolute;width:100%;height:100%;left:0;top:0;border:none !important;\" allowfullscreen webkitallowfullscreen mozallowfullscreen></iframe></div></div>"
      ],
      "text/plain": [
       "<folium.folium.Map at 0x342fc5450>"
      ]
     },
     "execution_count": 248,
     "metadata": {},
     "output_type": "execute_result"
    }
   ],
   "source": [
    "## Make a map\n",
    "\n",
    "import folium\n",
    "\n",
    "m = folium.Map(location=[47.617, -122.34], zoom_start=15)\n",
    "\n",
    "## `Polyline()` Expects a list of coordinate tuples.\n",
    "coord_data = list(zip(stops_filtered_by_route['stop_lat'], stops_filtered_by_route['stop_lon']))\n",
    "\n",
    "## Get the route name\n",
    "\n",
    "route_df = data['routes']['df']\n",
    "route_num = route_df[route_df['route_id'] == ROUTE_ID]['route_short_name'].values[0]\n",
    "route_name = route_df[route_df['route_id'] == ROUTE_ID]['route_desc'].values[0]\n",
    "route_name_pretty = \" | \".join([route_num, route_name])\n",
    "\n",
    "folium.PolyLine(coord_data, tooltip=route_name_pretty).add_to(m)\n",
    "\n",
    "## Display the map\n",
    "m"
   ]
  },
  {
   "cell_type": "markdown",
   "metadata": {},
   "source": [
    "## Try to generate a visualization showing the frequency of trips by hour for a given route"
   ]
  },
  {
   "cell_type": "code",
   "execution_count": 249,
   "metadata": {},
   "outputs": [
    {
     "data": {
      "text/plain": [
       "2979     05:00:00\n",
       "15692    05:01:00\n",
       "21835    05:30:00\n",
       "4455     05:30:00\n",
       "5300     05:30:00\n",
       "           ...   \n",
       "10370    24:30:00\n",
       "15657    24:30:00\n",
       "2697     24:30:00\n",
       "23923    24:31:00\n",
       "21409    24:31:00\n",
       "Name: arrival_time, Length: 742, dtype: object"
      ]
     },
     "execution_count": 249,
     "metadata": {},
     "output_type": "execute_result"
    }
   ],
   "source": [
    "## filter stop_times.txt by trip_id where stop_sequence is 1\n",
    "trips_and_stop_times = pd.merge(trips_filtered_by_route, stop_times_df, on='trip_id')\n",
    "trips_first_stop_only = trips_and_stop_times[trips_and_stop_times['stop_sequence'] == 1]\n",
    "\n",
    "## Note: `arrival_time` represents midnight values as 24:00:00 versus 00:00:00.\n",
    "trips_first_stop_only['arrival_time'].sort_values()\n",
    "\n",
    "\n",
    "\n"
   ]
  },
  {
   "cell_type": "code",
   "execution_count": 250,
   "metadata": {},
   "outputs": [],
   "source": [
    "## Convert arrival time hour values of `24` to `00`\n",
    "\n",
    "trips_first_stop_only['arrival_time'] = trips_first_stop_only['arrival_time'].str.replace('^24', '00', regex=True)\n",
    "trips_first_stop_only['arrival_time'].sort_values()\n",
    "\n",
    "## Update `arrival_time` to be a datetime object\n",
    "trips_first_stop_only['arrival_time'] = pd.to_datetime(trips_first_stop_only['arrival_time'], format='%H:%M:%S')"
   ]
  },
  {
   "cell_type": "code",
   "execution_count": 251,
   "metadata": {},
   "outputs": [],
   "source": [
    "## Get the number of trips by hour\n",
    "trips_per_hour = trips_first_stop_only.groupby(trips_first_stop_only['arrival_time'].dt.hour).size()"
   ]
  },
  {
   "cell_type": "code",
   "execution_count": 252,
   "metadata": {},
   "outputs": [
    {
     "name": "stderr",
     "output_type": "stream",
     "text": [
      "Matplotlib is building the font cache; this may take a moment.\n"
     ]
    },
    {
     "data": {
      "text/plain": [
       "<Axes: xlabel='arrival_time'>"
      ]
     },
     "execution_count": 252,
     "metadata": {},
     "output_type": "execute_result"
    },
    {
     "data": {
      "image/png": "[encoded data removed]",
      "text/plain": [
       "<Figure size 640x480 with 1 Axes>"
      ]
     },
     "metadata": {},
     "output_type": "display_data"
    }
   ],
   "source": [
    "import matplotlib.pyplot as plt\n",
    "\n",
    "trips_per_hour.plot(kind='bar')"
   ]
  }
 ],
 "metadata": {
  "kernelspec": {
   "display_name": "gtfs-exploration-Jy88ZVDk",
   "language": "python",
   "name": "python3"
  },
  "language_info": {
   "codemirror_mode": {
    "name": "ipython",
    "version": 3
   },
   "file_extension": ".py",
   "mimetype": "text/x-python",
   "name": "python",
   "nbconvert_exporter": "python",
   "pygments_lexer": "ipython3",
   "version": "3.11.6"
  }
 },
 "nbformat": 4,
 "nbformat_minor": 2
}
