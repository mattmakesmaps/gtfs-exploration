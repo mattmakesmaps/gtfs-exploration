{
 "cells": [
  {
   "cell_type": "markdown",
   "metadata": {},
   "source": [
    "# Calendar Dates Exploration"
   ]
  },
  {
   "cell_type": "code",
   "execution_count": 4,
   "metadata": {},
   "outputs": [],
   "source": [
    "## Get a dataframe going.\n",
    "\n",
    "import os\n",
    "import pandas as pd\n",
    "\n",
    "data_dir = os.path.join(os.getcwd(), os.pardir, os.pardir, 'data')\n",
    "input_csv =  os.path.join(data_dir, 'monorail', 'calendar_dates.txt')\n",
    "\n",
    "df = pd.read_csv(input_csv)"
   ]
  },
  {
   "cell_type": "code",
   "execution_count": 5,
   "metadata": {},
   "outputs": [
    {
     "data": {
      "text/plain": [
       "date\n",
       "20250101    3\n",
       "20241111    3\n",
       "20241224    2\n",
       "20241231    2\n",
       "20250120    2\n",
       "20240902    2\n",
       "20241004    1\n",
       "20240829    1\n",
       "20240831    1\n",
       "20240906    1\n",
       "20240920    1\n",
       "20240921    1\n",
       "20240928    1\n",
       "20241102    1\n",
       "20241005    1\n",
       "20241025    1\n",
       "20240824    1\n",
       "20241206    1\n",
       "20250526    1\n",
       "20241128    1\n",
       "20240827    1\n",
       "20240823    1\n",
       "20240903    1\n",
       "20240822    1\n",
       "20240908    1\n",
       "20240924    1\n",
       "20240925    1\n",
       "20241009    1\n",
       "20241023    1\n",
       "20241029    1\n",
       "20241110    1\n",
       "20241124    1\n",
       "20241205    1\n",
       "20240917    1\n",
       "20241001    1\n",
       "20240726    1\n",
       "20240806    1\n",
       "20240807    1\n",
       "20240810    1\n",
       "20240813    1\n",
       "20240816    1\n",
       "20241225    1\n",
       "Name: count, dtype: int64"
      ]
     },
     "execution_count": 5,
     "metadata": {},
     "output_type": "execute_result"
    }
   ],
   "source": [
    "## Check for any duplicate dates\n",
    "\n",
    "df.date.value_counts()"
   ]
  }
 ],
 "metadata": {
  "kernelspec": {
   "display_name": "gtfs-exploration-Jy88ZVDk",
   "language": "python",
   "name": "python3"
  },
  "language_info": {
   "codemirror_mode": {
    "name": "ipython",
    "version": 3
   },
   "file_extension": ".py",
   "mimetype": "text/x-python",
   "name": "python",
   "nbconvert_exporter": "python",
   "pygments_lexer": "ipython3",
   "version": "3.11.6"
  }
 },
 "nbformat": 4,
 "nbformat_minor": 2
}
